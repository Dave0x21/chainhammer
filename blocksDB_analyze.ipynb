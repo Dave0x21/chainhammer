{
 "cells": [
  {
   "cell_type": "code",
   "execution_count": 2,
   "metadata": {
    "collapsed": false
   },
   "outputs": [
    {
     "name": "stdout",
     "output_type": "stream",
     "text": [
      "TABLE blocks has 4299999 rows\n"
     ]
    },
    {
     "data": {
      "text/plain": [
       "(4299999,)"
      ]
     },
     "execution_count": 2,
     "metadata": {},
     "output_type": "execute_result"
    }
   ],
   "source": [
    "import sqlite3\n",
    "from config import DBFILE\n",
    "from blocksDB_create import DB_tableSize\n",
    "\n",
    "conn = sqlite3.connect(DBFILE)\n",
    "DB_tableSize(conn)\n"
   ]
  },
  {
   "cell_type": "code",
   "execution_count": 17,
   "metadata": {
    "collapsed": false
   },
   "outputs": [
    {
     "name": "stdout",
     "output_type": "stream",
     "text": [
      "MIN(blocknumber), MAX(blocknumber) = %s \n"
     ]
    },
    {
     "data": {
      "text/plain": [
       "[(0, 4392279)]"
      ]
     },
     "execution_count": 17,
     "metadata": {},
     "output_type": "execute_result"
    }
   ],
   "source": [
    "def maxBlockNumber(conn):\n",
    "    SQL = \"SELECT MIN(blocknumber), MAX(blocknumber) FROM blocks\"\n",
    "    cur = conn.cursor()\n",
    "    cur.execute(SQL)\n",
    "    result = cur.fetchall()\n",
    "    print (\"MIN(blocknumber), MAX(blocknumber) = %s \" )\n",
    "    return result\n",
    "maxBlockNumber(conn)"
   ]
  },
  {
   "cell_type": "code",
   "execution_count": 15,
   "metadata": {
    "collapsed": false
   },
   "outputs": [],
   "source": [
    "def DB_query(SQL):\n",
    "    cur = conn.cursor()\n",
    "    cur.execute(SQL)\n",
    "    result = cur.fetchall()\n",
    "    return result\n",
    "\n",
    "blocknumbers = DB_query(\"SELECT blocknumber FROM blocks WHERE blocknumber<5000000\")\n",
    "\n",
    "# blocknumbers = DB_query(\"SELECT blocknumber FROM blocks WHERE blocknumber=999999\"); print (blocknumbers) # yes\n",
    "# blocknumbers = DB_query(\"SELECT blocknumber FROM blocks WHERE blocknumber=1000000\"); print (blocknumbers) # no\n",
    "# blocknumbers = DB_query(\"SELECT blocknumber FROM blocks WHERE blocknumber=1000001\"); print (blocknumbers) # yes\n",
    "\n"
   ]
  },
  {
   "cell_type": "code",
   "execution_count": 16,
   "metadata": {
    "collapsed": false
   },
   "outputs": [],
   "source": [
    "old = -1\n",
    "for bn in blocknumbers:\n",
    "    # print (bn[0]); break\n",
    "    bn = bn[0]\n",
    "    if bn != old + 1:\n",
    "        print (bn - 1, \"is missing\")\n",
    "    old = bn"
   ]
  },
  {
   "cell_type": "code",
   "execution_count": 30,
   "metadata": {
    "collapsed": false
   },
   "outputs": [
    {
     "name": "stdout",
     "output_type": "stream",
     "text": [
      "[(1179,)]\n",
      "[(0.7543849663500506,)]\n",
      "[(3313470,)]\n",
      "[(1951767,)]\n",
      "av tx per nonempty blocks =  1.697677028046893\n",
      "[(118576,)]\n"
     ]
    }
   ],
   "source": [
    "txcount_max = DB_query(\"SELECT MAX(txcount) FROM blocks\"); print (txcount_max)\n",
    "txcount_av = DB_query(\"SELECT AVG(txcount) FROM blocks\"); print (txcount_av)\n",
    "txcount_sum = DB_query(\"SELECT SUM(txcount) FROM blocks\"); print (txcount_sum)\n",
    "blocks_nonempty_count = DB_query(\"SELECT COUNT(blocknumber) FROM blocks WHERE txcount != 0\"); print (blocks_nonempty_count)\n",
    "print (\"av tx per nonempty blocks = \", txcount_sum[0][0] / blocks_nonempty_count[0][0] )\n",
    "\n",
    "\n",
    "size_max = DB_query(\"SELECT MAX(size) FROM blocks\"); print (size_max)\n"
   ]
  },
  {
   "cell_type": "code",
   "execution_count": null,
   "metadata": {
    "collapsed": true
   },
   "outputs": [],
   "source": []
  },
  {
   "cell_type": "code",
   "execution_count": null,
   "metadata": {
    "collapsed": true
   },
   "outputs": [],
   "source": []
  },
  {
   "cell_type": "code",
   "execution_count": 6,
   "metadata": {
    "collapsed": true
   },
   "outputs": [],
   "source": [
    "conn.close()"
   ]
  },
  {
   "cell_type": "code",
   "execution_count": null,
   "metadata": {
    "collapsed": true
   },
   "outputs": [],
   "source": []
  }
 ],
 "metadata": {
  "kernelspec": {
   "display_name": "Python.3.py3eth",
   "language": "python",
   "name": "python.3.py3eth"
  },
  "language_info": {
   "codemirror_mode": {
    "name": "ipython",
    "version": 3
   },
   "file_extension": ".py",
   "mimetype": "text/x-python",
   "name": "python",
   "nbconvert_exporter": "python",
   "pygments_lexer": "ipython3",
   "version": "3.5.3"
  }
 },
 "nbformat": 4,
 "nbformat_minor": 2
}
