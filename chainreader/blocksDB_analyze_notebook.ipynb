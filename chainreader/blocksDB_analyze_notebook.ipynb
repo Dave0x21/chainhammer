{
 "cells": [
  {
   "cell_type": "code",
   "execution_count": null,
   "metadata": {},
   "outputs": [],
   "source": [
    "DBFILE = \"dell-crux-temp.db\"\n",
    "NAME_PREFIX=\"TEMP-DELETE\""
   ]
  },
  {
   "cell_type": "markdown",
   "metadata": {},
   "source": [
    "# analyze `____.db` data\n",
    "\n",
    "calculates & plots\n",
    "\n",
    "* blocktime\n",
    "* TPS (transactions per second), over 1, 3, 5, 10 consecutive blocks\n",
    "* block size\n",
    "* gasUsed and gasLimit per second\n",
    "\n",
    "It needs an `allblocks-....db` database (created by `blocksDB_create.py`) containing all the blocks.\n",
    "\n",
    "---"
   ]
  },
  {
   "cell_type": "markdown",
   "metadata": {},
   "source": [
    "Please cite this as:\n",
    "\n",
    "> Ethereum benchmarking scripts \"chainhammer\" and \"chainreader\"  \n",
    "> by Dr Andreas Krueger, London 2018  \n",
    "> https://github.com/drandreaskrueger/chainhammer\n",
    "\n",
    "Consider to submit your improvements & usage as pull request --> [../other-projects.md](../other-projects.md).  Thanks.\n"
   ]
  },
  {
   "cell_type": "markdown",
   "metadata": {},
   "source": [
    "<a id='TOC'>table of contents</a>\n",
    "\n",
    "## TOC\n",
    "\n",
    "Code \n",
    "\n",
    "* [dependencies & my own routines](#dependencies)\n",
    "* [simple statistics](#stats)\n",
    "* [generate new columns](#columns)\n",
    "* [4 diagrams in one](#code4diagrams)\n",
    "\n",
    "Results\n",
    "\n",
    "* [tables of peak TPS rates](#tables)\n",
    "* [whole chain](#allblocks)\n",
    "* [zooming in](#zoom)\n",
    "\n"
   ]
  },
  {
   "cell_type": "markdown",
   "metadata": {},
   "source": [
    "<a id='dependencies'>load dependencies</a>"
   ]
  },
  {
   "cell_type": "code",
   "execution_count": null,
   "metadata": {},
   "outputs": [],
   "source": [
    "#dependencies\n",
    "\n",
    "import sqlite3; print(\"sqlite3 version\", sqlite3.version)\n",
    "import pandas; print(\"pandas version\", pandas.__version__)\n",
    "import numpy; print(\"numpy version\", numpy.__version__)\n",
    "import matplotlib; print(\"matplotlib version\", matplotlib.__version__)\n",
    "\n",
    "%matplotlib inline\n",
    "\n",
    "# https://github.com/matplotlib/matplotlib/issues/5907#issuecomment-179001811\n",
    "matplotlib.rcParams['agg.path.chunksize'] = 10000\n",
    "\n",
    "# my own routines are now all in separate .py file:\n",
    "from blocksDB_diagramming import DB_query, DB_tableSize, maxBlockNumber, check_whether_complete\n",
    "from blocksDB_diagramming import add_blocktime, add_TPS, add_GUPS, add_GLPS\n",
    "\n",
    "print (\"\\nReading blocks table from\", DBFILE)"
   ]
  },
  {
   "cell_type": "markdown",
   "metadata": {},
   "source": [
    "<a id='stats'>simple statistics</a>\n",
    "### some simple statistics"
   ]
  },
  {
   "cell_type": "code",
   "execution_count": null,
   "metadata": {},
   "outputs": [],
   "source": [
    "# open database connection\n",
    "conn = sqlite3.connect(DBFILE)\n",
    "\n",
    "print (\"DB table names: \", DB_query(\"SELECT name FROM sqlite_master WHERE type='table';\", conn)[0])\n",
    "\n",
    "# number of rows?\n",
    "_=DB_tableSize(\"blocks\", conn)\n",
    "\n",
    "# what is the first & last block we have?\n",
    "minblock, maxblock = maxBlockNumber(conn)[0]\n",
    "\n",
    "blocknumbers = DB_query(\"SELECT blocknumber FROM blocks ORDER BY blocknumber\", conn) \n",
    "print (\"len(blocknumbers)=\", len(blocknumbers))\n",
    "\n",
    "# do we have consecutive blocks, none missing?\n",
    "check_whether_complete(blocknumbers)"
   ]
  },
  {
   "cell_type": "code",
   "execution_count": null,
   "metadata": {},
   "outputs": [],
   "source": [
    "# simple statistics\n",
    "\n",
    "size_max = DB_query(\"SELECT MAX(size) FROM blocks\", conn); print (\"(block)size_max\", size_max[0][0])\n",
    "txcount_max = DB_query(\"SELECT MAX(txcount) FROM blocks\", conn); print (\"txcount_max\", txcount_max[0][0])\n",
    "txcount_av = DB_query(\"SELECT AVG(txcount) FROM blocks\", conn); print (\"txcount_av\", txcount_av[0][0])\n",
    "txcount_sum = DB_query(\"SELECT SUM(txcount) FROM blocks\", conn); print (\"txcount_sum\", txcount_sum[0][0])\n",
    "blocks_nonempty_count = DB_query(\"SELECT COUNT(blocknumber) FROM blocks WHERE txcount != 0\", conn); print (\"blocks_nonempty_count\", blocks_nonempty_count[0][0])\n",
    "print (\"av tx per nonempty blocks = \", txcount_sum[0][0] / blocks_nonempty_count[0][0] )"
   ]
  },
  {
   "cell_type": "markdown",
   "metadata": {},
   "source": [
    "<a id='columns'>create new columns</a>\n",
    "## read whole table, and create new columns"
   ]
  },
  {
   "cell_type": "code",
   "execution_count": null,
   "metadata": {},
   "outputs": [],
   "source": [
    "# read whole table\n",
    "\n",
    "# SQL=\"SELECT * FROM blocks WHERE 48500<blocknumber and blocknumber<49000 ORDER BY blocknumber\"\n",
    "SQL=\"SELECT * FROM blocks ORDER BY blocknumber\"\n",
    "df = pandas.read_sql(SQL, conn)"
   ]
  },
  {
   "cell_type": "code",
   "execution_count": null,
   "metadata": {},
   "outputs": [],
   "source": [
    "conn.close()"
   ]
  },
  {
   "cell_type": "markdown",
   "metadata": {},
   "source": [
    "### `geth` based clients have a nanosecond timestamp\n",
    "\n",
    "not anymore?"
   ]
  },
  {
   "cell_type": "code",
   "execution_count": null,
   "metadata": {},
   "outputs": [],
   "source": [
    "# transform nanoseconds to seconds\n",
    "# df[\"timestamp\"]=df[\"timestamp\"]/1000000000\n",
    "df[0:5]\n"
   ]
  },
  {
   "cell_type": "code",
   "execution_count": null,
   "metadata": {},
   "outputs": [],
   "source": [
    "# blocktime = timestamp[n] - timestamp[n-1]\n",
    "add_blocktime(df)\n",
    "\n",
    "\n",
    "#df[\"TPS_1\"]=df['txcount']/df['blocktime']\n",
    "#df\n",
    "\n",
    "\n",
    "# transactions per second\n",
    "# with differently sized (rectangular) windows\n",
    "add_TPS(df, numBlocks=1)\n",
    "add_TPS(df, numBlocks=3)\n",
    "add_TPS(df, numBlocks=5)\n",
    "add_TPS(df, numBlocks=10)\n",
    "\n",
    "\n",
    "# gasUsed and gasLimit per second\n",
    "add_GUPS(df, numBlocks=1)\n",
    "add_GUPS(df, numBlocks=3)\n",
    "add_GUPS(df, numBlocks=5)\n",
    "\n",
    "add_GLPS(df, numBlocks=1)\n",
    "add_GLPS(df, numBlocks=3)\n",
    "add_GLPS(df, numBlocks=5)"
   ]
  },
  {
   "cell_type": "markdown",
   "metadata": {},
   "source": [
    "<a id='tables'>tables of peak TPS rates</a>\n",
    "## peak TPS rates"
   ]
  },
  {
   "cell_type": "code",
   "execution_count": null,
   "metadata": {},
   "outputs": [],
   "source": [
    "# peak TPS single block\n",
    "\n",
    "df.sort_values(by=['TPS_1blk'], ascending=False)[0:10]"
   ]
  },
  {
   "cell_type": "code",
   "execution_count": null,
   "metadata": {},
   "outputs": [],
   "source": [
    "# peak TPS over ten blocks\n",
    "\n",
    "df.sort_values(by=['TPS_10blks'], ascending=False)[0:10]"
   ]
  },
  {
   "cell_type": "markdown",
   "metadata": {},
   "source": [
    "<a id='code4diagrams'>code: 4 diagrams in one</a>\n",
    "## all 4 diagrams in one\n",
    "\n",
    "TODO - once this routine is also ready, move it out into `blocksDB_diagramming.py`   \n",
    "but at the moment this is still in flux"
   ]
  },
  {
   "cell_type": "code",
   "execution_count": null,
   "metadata": {},
   "outputs": [],
   "source": [
    "def diagrams(df, blockFrom, blockTo, prefix=\"\", gas_logy=True, bt_logy=True):\n",
    "    \n",
    "    # https://github.com/matplotlib/matplotlib/issues/5907#issuecomment-179001811\n",
    "    matplotlib.rcParams['agg.path.chunksize'] = 10000\n",
    "    \n",
    "    # prepare 2x2 subplots\n",
    "    plt = matplotlib.pyplot\n",
    "    fig, axes = plt.subplots(nrows=2, ncols=2,figsize=(15,10))\n",
    "    plt.tight_layout(pad=6.0, w_pad=6.0, h_pad=7.5)\n",
    "    title = prefix + \" blocks %d to %d\" % (blockFrom, blockTo)\n",
    "    plt.suptitle(title, fontsize=16)\n",
    "    \n",
    "    # bar charts are too expensive when too many blocks\n",
    "    numBlocks =  blockTo - blockFrom\n",
    "    kind = 'bar' if numBlocks<2000 else 'line'\n",
    "    \n",
    "    # TPS averages --> legend\n",
    "    cols=['TPS_1blk', 'TPS_3blks', 'TPS_5blks', 'TPS_10blks']\n",
    "    averages=df[cols][blockFrom:blockTo].mean()\n",
    "    legend = [col + \" (av %.1f)\" % averages[col] for col in cols]\n",
    "    # print (legend)\n",
    "    \n",
    "    # TPS diagram\n",
    "    cols = ['blocknumber'] + cols\n",
    "    ax=df[cols][blockFrom:blockTo].plot(x='blocknumber', rot=90, ax=axes[0,0])\n",
    "    ax.set_title(\"transactions per second\")\n",
    "    ax.get_xaxis().get_major_formatter().set_useOffset(False)\n",
    "    ax.legend(legend);\n",
    "    \n",
    "    # BT\n",
    "    ax=df[['blocknumber', 'blocktime']][blockFrom:blockTo].plot(x='blocknumber', kind=kind, ax=axes[0,1],\n",
    "                                                               logy=bt_logy)\n",
    "    ax.set_title(\"blocktime since last block\")\n",
    "    #ax.locator_params(nbins=10, axis='x')  # TODO: Something is broken with matplotlib's ticks machinery\n",
    "        \n",
    "    # blocksize\n",
    "    ax=df[['blocknumber', 'size']][blockFrom:blockTo].plot(x='blocknumber', rot=90, kind=kind, ax=axes[1,0])\n",
    "    # ax.get_xaxis().get_major_formatter().set_useOffset(False)\n",
    "    ax.get_yaxis().get_major_formatter().set_scientific(False)\n",
    "    ax.set_title(\"blocksize in bytes\")\n",
    "    #ax.locator_params(nbins=10, axis='x')  # TODO: Something is broken with matplotlib's ticks machinery\n",
    "    \n",
    "    # gas\n",
    "    ax=df[['blocknumber', 'GLPS_1blk', 'GUPS_1blk']][blockFrom:blockTo].plot(x='blocknumber', \n",
    "                                                                             rot=90, ax=axes[1,1], \n",
    "                                                                             logy=gas_logy)\n",
    "    ax.get_xaxis().get_major_formatter().set_useOffset(False)\n",
    "    if not gas_logy:\n",
    "        ax.get_yaxis().get_major_formatter().set_scientific(False)\n",
    "    ax.set_title(\"gasUsed and gasLimit per second\")\n",
    "    \n",
    "    # save diagram to PNG file\n",
    "    fig.savefig(\"img/%s_tps-bt-bs-gas_blks%d-%d.png\" % (prefix,blockFrom,blockTo))\n"
   ]
  },
  {
   "cell_type": "markdown",
   "metadata": {},
   "source": [
    "# <a id='allblocks'>whole chain</a>\n"
   ]
  },
  {
   "cell_type": "code",
   "execution_count": null,
   "metadata": {},
   "outputs": [],
   "source": [
    "# the whole range of blocks\n",
    "\n",
    "diagrams(df, 0, len(blocknumbers)-1, NAME_PREFIX, gas_logy=True, bt_logy=True)"
   ]
  },
  {
   "cell_type": "markdown",
   "metadata": {},
   "source": [
    "<a id='zoom1'>zoom in on one experiment</a>\n",
    "\n",
    "# zooming in ...\n"
   ]
  },
  {
   "cell_type": "code",
   "execution_count": null,
   "metadata": {},
   "outputs": [],
   "source": [
    "# starting only at block xx because the waiting time before experiment start\n",
    "\n",
    "diagrams(df, 100,210, NAME_PREFIX, gas_logy=True, bt_logy=False)"
   ]
  },
  {
   "cell_type": "code",
   "execution_count": null,
   "metadata": {},
   "outputs": [],
   "source": []
  }
 ],
 "metadata": {
  "kernelspec": {
   "display_name": "Python.3.py3eth",
   "language": "python",
   "name": "python.3.py3eth"
  },
  "language_info": {
   "codemirror_mode": {
    "name": "ipython",
    "version": 3
   },
   "file_extension": ".py",
   "mimetype": "text/x-python",
   "name": "python",
   "nbconvert_exporter": "python",
   "pygments_lexer": "ipython3",
   "version": "3.5.3"
  }
 },
 "nbformat": 4,
 "nbformat_minor": 2
}
