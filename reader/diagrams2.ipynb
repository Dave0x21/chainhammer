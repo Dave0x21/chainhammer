{
 "cells": [
  {
   "cell_type": "code",
   "execution_count": null,
   "metadata": {},
   "outputs": [],
   "source": [
    "import blocksDB_diagramming as BDD\n",
    "\n",
    "BDD.load_dependencies()\n",
    "\n",
    "DBFILE=\"temp.db\"\n",
    "NAME_PREFIX=\"TEMP\"\n",
    "FROM_BLOCK, TO_BLOCK = 68, 155\n",
    "imgpath=\"img\""
   ]
  },
  {
   "cell_type": "code",
   "execution_count": null,
   "metadata": {},
   "outputs": [],
   "source": [
    "\n",
    "conn, blocknumbers = BDD.load_db_and_check_complete(DBFILE)\n",
    "BDD.simple_stats(conn)\n",
    "df = BDD.read_whole_table_into_dataframe(conn)\n",
    "conn.close()\n",
    "\n",
    "assert BDD.check_timestamp_format(df)\n",
    "\n",
    "BDD.add_columns(df)\n",
    "BDD.show_peak_TPS(df)\n",
    "    \n",
    "if FROM_BLOCK==-1: FROM_BLOCK = min(blocknumbers)[0]\n",
    "if TO_BLOCK==-1: TO_BLOCK = max(blocknumbers)[0]\n",
    "print (FROM_BLOCK, TO_BLOCK)\n"
   ]
  },
  {
   "cell_type": "code",
   "execution_count": null,
   "metadata": {},
   "outputs": [],
   "source": [
    "fn = BDD.diagrams(df, FROM_BLOCK, TO_BLOCK, NAME_PREFIX, gas_logy=True, bt_logy=True, imgpath=imgpath)\n",
    "print (fn)"
   ]
  },
  {
   "cell_type": "code",
   "execution_count": null,
   "metadata": {},
   "outputs": [],
   "source": [
    "df[(TO_BLOCK-25):TO_BLOCK-10]"
   ]
  },
  {
   "cell_type": "code",
   "execution_count": null,
   "metadata": {},
   "outputs": [],
   "source": []
  }
 ],
 "metadata": {
  "kernelspec": {
   "display_name": "Python.3.py3eth",
   "language": "python",
   "name": "python.3.py3eth"
  },
  "language_info": {
   "codemirror_mode": {
    "name": "ipython",
    "version": 3
   },
   "file_extension": ".py",
   "mimetype": "text/x-python",
   "name": "python",
   "nbconvert_exporter": "python",
   "pygments_lexer": "ipython3",
   "version": "3.5.3"
  }
 },
 "nbformat": 4,
 "nbformat_minor": 2
}
