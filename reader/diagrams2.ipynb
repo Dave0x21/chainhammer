{
 "cells": [
  {
   "cell_type": "code",
   "execution_count": null,
   "metadata": {},
   "outputs": [],
   "source": [
    "import blocksDB_diagramming as BDD\n",
    "\n",
    "BDD.load_dependencies()\n",
    "\n",
    "NAME_PREFIX=\"TEMP\"\n",
    "\n",
    "DBFILE,FROM_BLOCK,TO_BLOCK =\"temp1.db\", 54, 124\n",
    "DBFILE,FROM_BLOCK,TO_BLOCK =\"temp2.db\", 1, 5000\n",
    "\n",
    "imgpath=\"img\""
   ]
  },
  {
   "cell_type": "code",
   "execution_count": null,
   "metadata": {},
   "outputs": [],
   "source": [
    "conn, blocknumbers = BDD.load_db_and_check_complete(DBFILE)\n",
    "BDD.simple_stats(conn)\n",
    "df = BDD.read_whole_table_into_dataframe(conn)\n",
    "conn.close()\n",
    "\n",
    "assert BDD.check_timestamp_format(df)\n",
    "\n",
    "BDD.add_columns(df)\n",
    "BDD.show_peak_TPS(df)\n",
    "    \n",
    "# if FROM_BLOCK==-1: FROM_BLOCK = min(blocknumbers)[0]\n",
    "# if TO_BLOCK==-1: TO_BLOCK = max(blocknumbers)[0]\n",
    "\n",
    "# N.B.: Redefined: FROM_BLOCK, TO_BLOCK now experiment limits!\n",
    "\n",
    "print (FROM_BLOCK, TO_BLOCK)\n",
    "\n",
    "\n",
    "\n",
    "##### TODO: Check whether any of these is start position dependent!\n"
   ]
  },
  {
   "cell_type": "code",
   "execution_count": null,
   "metadata": {},
   "outputs": [],
   "source": [
    "df.index"
   ]
  },
  {
   "cell_type": "code",
   "execution_count": null,
   "metadata": {},
   "outputs": [],
   "source": [
    "shift=min(df[\"blocknumber\"])\n",
    "df[FROM_BLOCK-shift:TO_BLOCK-shift+10]"
   ]
  },
  {
   "cell_type": "code",
   "execution_count": null,
   "metadata": {},
   "outputs": [],
   "source": [
    "fn = BDD.diagrams(df, FROM_BLOCK-shift, TO_BLOCK-shift+10, NAME_PREFIX, gas_logy=True, bt_logy=True, imgpath=imgpath)\n",
    "\n",
    "print (fn)"
   ]
  },
  {
   "cell_type": "code",
   "execution_count": null,
   "metadata": {},
   "outputs": [],
   "source": [
    "dfs = df[FROM_BLOCK-shift:TO_BLOCK-shift+10] # just the slice of the experiment + 10 extra blocks\n",
    "dfs"
   ]
  },
  {
   "cell_type": "code",
   "execution_count": null,
   "metadata": {},
   "outputs": [],
   "source": []
  },
  {
   "cell_type": "code",
   "execution_count": null,
   "metadata": {},
   "outputs": [],
   "source": [
    "import matplotlib.pyplot as plt\n",
    "fig, axes = plt.subplots(2, 2, figsize=(16,9))\n"
   ]
  },
  {
   "cell_type": "code",
   "execution_count": null,
   "metadata": {},
   "outputs": [],
   "source": [
    "def averager(dfs, col, emptyBlocks, fmt=\"%.1f\"):\n",
    "    \"\"\"\n",
    "    we want the real average, taken only over the non-empty blocks\n",
    "    \"\"\"\n",
    "    av = dfs[col] [:-emptyBlocks] .mean()\n",
    "    avTxt = fmt % av\n",
    "    return av, avTxt\n",
    "\n",
    "def avgLine(ax, dfs, emptyBlocks, avg, avgTxt):\n",
    "    \"\"\"\n",
    "    horizontal line plus text on white background\n",
    "    \"\"\"\n",
    "    blMin, blMax = min(dfs[\"blocknumber\"]), max(dfs[\"blocknumber\"][:-emptyBlocks])\n",
    "    ax.plot([blMin, blMax], [avg, avg], \"k-\")\n",
    "    \n",
    "    ax.text(blMin + (blMax-blMin + emptyBlocks)*0.95, avg, avgTxt, \n",
    "            bbox=dict(facecolor='white', edgecolor='white'))\n",
    "    \n",
    "def axes_simplifier(ax, logYscale=False):\n",
    "    \"\"\"\n",
    "    otherwise matplotlib automatically switches on notations that might be confusing\n",
    "    \"\"\"\n",
    "    ax.get_xaxis().get_major_formatter().set_useOffset(False)\n",
    "    ax.get_xaxis().get_major_formatter().set_scientific(False)\n",
    "    if not logYscale:\n",
    "        ax.get_yaxis().get_major_formatter().set_useOffset(False)\n",
    "        ax.get_yaxis().get_major_formatter().set_scientific(False)\n",
    "\n",
    "def tps_plotter(ax, dfs, emptyBlocks=10):\n",
    "    \"\"\"\n",
    "    TPS average calculated only over non-empty blocks!\n",
    "    average calculated for TPS (not for smoothed 3, 5, 10 blocks averages)\n",
    "    \"\"\"\n",
    "    ax.set_title(\"transactions per second\")\n",
    "    \n",
    "    cols=['TPS_1blk', 'TPS_3blks', 'TPS_5blks', 'TPS_10blks']\n",
    "    for col in cols:\n",
    "        ax.plot(dfs['blocknumber'], dfs[col])\n",
    "\n",
    "    axes_simplifier(ax)\n",
    "   \n",
    "    avg, avgTxt = averager(dfs, cols[0], emptyBlocks, \"%.1f\")\n",
    "    legend = [cols[0] + \" (avg %s)\"%avgTxt ] + cols[1:]\n",
    "    ax.legend(legend); \n",
    "   \n",
    "    avgLine(ax, dfs, emptyBlocks, avg, avgTxt)\n",
    "\n",
    "  \n",
    "    \n",
    "fig, axes = plt.subplots(1, 1, figsize=(16,9))\n",
    "# fig, axes = plt.subplots(1, 1, figsize=(6,4))\n",
    "tps_plotter(axes, dfs)"
   ]
  },
  {
   "cell_type": "code",
   "execution_count": null,
   "metadata": {},
   "outputs": [],
   "source": [
    "def btime_plotter(ax, dfs):\n",
    "    # BT\n",
    "\n",
    "    ax.set_title(\"blocktime since last block\")\n",
    "    \n",
    "    ax.scatter(x=dfs['blocknumber'], y=dfs['blocktime'], c=\"b\", marker=\"x\")\n",
    "    \n",
    "    axes_simplifier(ax)\n",
    "\n",
    "fig, axes = plt.subplots(1, 1, figsize=(16,9))\n",
    "# fig, axes = plt.subplots(1, 1, figsize=(6,4))\n",
    "btime_plotter(axes, dfs)    "
   ]
  },
  {
   "cell_type": "code",
   "execution_count": null,
   "metadata": {},
   "outputs": [],
   "source": [
    "def bsize_plotter(ax, dfs, emptyBlocks):\n",
    "    # blocksize\n",
    "    # plus average line\n",
    "    \n",
    "    ax.scatter(dfs['blocknumber'], dfs['size'], c=\"g\", marker=\"o\")\n",
    "    ax.plot(   dfs['blocknumber'], dfs['size'], \"g-\")\n",
    "    \n",
    "    avg, avgTxt = averager(dfs, 'size', emptyBlocks, \"%d\")\n",
    "    avgLine(ax, dfs, emptyBlocks, avg, avgTxt)\n",
    "    \n",
    "    ax.set_title(\"blocksize\")\n",
    "    \n",
    "    axes_simplifier(ax)\n",
    "\n",
    "#fig, axes = plt.subplots(1, 1, figsize=(16,9))\n",
    "fig, axes = plt.subplots(1, 1, figsize=(6,4))\n",
    "bsize_plotter(axes, dfs, 10)    "
   ]
  },
  {
   "cell_type": "code",
   "execution_count": null,
   "metadata": {},
   "outputs": [],
   "source": [
    "# just a test what happens when many many blocks\n",
    "\n",
    "import pandas as pd\n",
    "testdf = pd.DataFrame({\"blocknumber\" : range(100000,300000)})\n",
    "testdf[\"size\"]=40000\n",
    "testdf\n",
    "fig, axes = plt.subplots(1, 1, figsize=(6,4))\n",
    "bsize_plotter(axes, testdf, 10)"
   ]
  },
  {
   "cell_type": "code",
   "execution_count": null,
   "metadata": {},
   "outputs": [],
   "source": [
    "?plt.scatter"
   ]
  },
  {
   "cell_type": "code",
   "execution_count": null,
   "metadata": {},
   "outputs": [],
   "source": [
    "?plt.plot"
   ]
  },
  {
   "cell_type": "code",
   "execution_count": null,
   "metadata": {},
   "outputs": [],
   "source": [
    "?axes.text"
   ]
  },
  {
   "cell_type": "code",
   "execution_count": null,
   "metadata": {},
   "outputs": [],
   "source": [
    "dfs['GLPS_1blk']"
   ]
  },
  {
   "cell_type": "code",
   "execution_count": null,
   "metadata": {},
   "outputs": [],
   "source": [
    "def gas_plotter(ax, dfs):\n",
    "    ax.set_title(\"gasUsed and gasLimit per second\")    \n",
    "    \n",
    "    ax.plot(   dfs['blocknumber'], dfs['GLPS_1blk']) # , \"g-\")\n",
    "    ax.plot(   dfs['blocknumber'], dfs['GUPS_1blk']) # \n",
    "    \n",
    "    ax.set_yscale('log')\n",
    "    \n",
    "    #ax=df[['blocknumber', 'GLPS_1blk', 'GUPS_1blk']][blockFrom:blockTo].plot(x='blocknumber', \n",
    "    #                                                                         rot=90, ax=axes[1,1], \n",
    "    #                                                                         logy=gas_logy)\n",
    "    \n",
    "    axes_simplifier(ax, logYscale=True)\n",
    "    ax.legend ([\"gasLimit/sec\", \"gasUsed/sec\"] )\n",
    "\n",
    "fig, axes = plt.subplots(1, 1, figsize=(6,4))\n",
    "gas_plotter(axes, dfs)"
   ]
  },
  {
   "cell_type": "code",
   "execution_count": null,
   "metadata": {},
   "outputs": [],
   "source": [
    "def diagrams(prefix, df, blockFrom, blockTo, emptyBlocks=10):\n",
    "    \n",
    "    \n",
    "    offset=min(df[\"blocknumber\"])\n",
    "    # just the slice of the experiment + 10 extra blocks:\n",
    "    df = df[FROM_BLOCK-offset:TO_BLOCK-offset+emptyBlocks+1] \n",
    "    \n",
    "    # https://github.com/matplotlib/matplotlib/issues/5907#issuecomment-179001811\n",
    "    import matplotlib\n",
    "    matplotlib.rcParams['agg.path.chunksize'] = 10000\n",
    "    \n",
    "\n",
    "    fig, axes = plt.subplots(2, 2, figsize=(16,9))\n",
    "    \n",
    "    title = prefix + \" blocks %d to %d\" % (blockFrom, blockTo)\n",
    "    fig.suptitle(title, fontsize=16)\n",
    "\n",
    "    fig.subplots_adjust(hspace=0.25, wspace=0.20)\n",
    "    \n",
    "    \n",
    "    tps_plotter(axes[0,0], df)\n",
    "    btime_plotter(axes[0,1], df)\n",
    "    bsize_plotter(axes[1,0], df, 10)  \n",
    "    gas_plotter(axes[1,1], df)\n",
    "    \n",
    "diagrams(\"TEMP\", df, FROM_BLOCK, TO_BLOCK)"
   ]
  },
  {
   "cell_type": "code",
   "execution_count": null,
   "metadata": {},
   "outputs": [],
   "source": []
  }
 ],
 "metadata": {
  "kernelspec": {
   "display_name": "Python.3.py3eth",
   "language": "python",
   "name": "python.3.py3eth"
  },
  "language_info": {
   "codemirror_mode": {
    "name": "ipython",
    "version": 3
   },
   "file_extension": ".py",
   "mimetype": "text/x-python",
   "name": "python",
   "nbconvert_exporter": "python",
   "pygments_lexer": "ipython3",
   "version": "3.5.3"
  }
 },
 "nbformat": 4,
 "nbformat_minor": 2
}
