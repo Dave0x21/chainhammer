{
 "cells": [
  {
   "cell_type": "markdown",
   "metadata": {},
   "source": [
    "# pyplot tutorials\n",
    "used when completely rewriting the new reader/blocksDBdiagramming.diagrams()\n",
    "\n",
    "## pyplot tutorial v3.0.2\n",
    "\n",
    "https://matplotlib.org/tutorials/introductory/pyplot.html\n",
    "\n",
    "importing the given pyplot.ipynb resulted in a freezing browser, so instead copypaste all manually.\n",
    "\n",
    "## usage guide\n",
    "\n",
    "https://matplotlib.org/tutorials/introductory/usage.html\n",
    "\n",
    "## axes_grid1 mpl_toolkit\n",
    "\n",
    "https://matplotlib.org/mpl_toolkits/axes_grid1/index.html\n",
    "\n"
   ]
  },
  {
   "cell_type": "code",
   "execution_count": null,
   "metadata": {},
   "outputs": [],
   "source": [
    "import matplotlib\n",
    "print(matplotlib.get_backend())\n",
    "#matplotlib.use('PS')\n",
    "#print(matplotlib.get_backend())"
   ]
  },
  {
   "cell_type": "code",
   "execution_count": null,
   "metadata": {},
   "outputs": [],
   "source": [
    "import matplotlib.pyplot as plt\n",
    "%matplotlib inline"
   ]
  },
  {
   "cell_type": "code",
   "execution_count": null,
   "metadata": {},
   "outputs": [],
   "source": [
    "plt.plot([1, 2, 3, 4])\n",
    "plt.ylabel('some numbers')\n",
    "plt.show()"
   ]
  },
  {
   "cell_type": "code",
   "execution_count": null,
   "metadata": {},
   "outputs": [],
   "source": [
    "plt.plot([1, 2, 3, 4], [1, 4, 9, 16])"
   ]
  },
  {
   "cell_type": "code",
   "execution_count": null,
   "metadata": {},
   "outputs": [],
   "source": [
    "plt.plot([1, 2, 3, 4], [1, 4, 9, 16], 'rx')\n",
    "plt.plot([2, 3, 4, 5], [1, 4, 9, 16], 'bo')\n",
    "plt.axis([0, 6, 0, 20])\n",
    "plt.show()"
   ]
  },
  {
   "cell_type": "code",
   "execution_count": null,
   "metadata": {},
   "outputs": [],
   "source": [
    "import numpy as np\n",
    "\n",
    "# evenly sampled time at 200ms intervals\n",
    "t = np.arange(0., 5., 0.2)\n",
    "print (t)\n",
    "\n",
    "# red dashes, blue squares and green triangles\n",
    "plt.plot(t, t, 'r--', t, t**2, 'bs', t, t**3, 'g^')\n",
    "plt.show()"
   ]
  },
  {
   "cell_type": "code",
   "execution_count": null,
   "metadata": {},
   "outputs": [],
   "source": [
    "data = {'a': np.arange(50),\n",
    "        'c': np.random.randint(0, 50, 50),\n",
    "        'd': np.random.randn(50)}\n",
    "data['b'] = data['a'] + 10 * np.random.randn(50)\n",
    "data['d'] = (np.abs(data['d']) * 10)**2\n",
    "\n",
    "plt.scatter('a', 'b', c='c', s='d', data=data) # x, y, color, size\n",
    "plt.xlabel('entry a')\n",
    "plt.ylabel('entry b')\n",
    "plt.show()"
   ]
  },
  {
   "cell_type": "code",
   "execution_count": null,
   "metadata": {},
   "outputs": [],
   "source": [
    "?plt.scatter"
   ]
  },
  {
   "cell_type": "code",
   "execution_count": null,
   "metadata": {},
   "outputs": [],
   "source": [
    "data"
   ]
  },
  {
   "cell_type": "code",
   "execution_count": null,
   "metadata": {},
   "outputs": [],
   "source": [
    "names = ['group_a', 'group_b', 'group_c']\n",
    "values = [1, 10, 100]\n",
    "\n",
    "plt.figure(1, figsize=(9, 3))\n",
    "\n",
    "plt.subplot(131)\n",
    "plt.bar(names, values)\n",
    "plt.subplot(132)\n",
    "plt.scatter(names, values)\n",
    "plt.subplot(133)\n",
    "plt.plot(names, values)\n",
    "plt.suptitle('Categorical Plotting')\n",
    "plt.show()"
   ]
  },
  {
   "cell_type": "code",
   "execution_count": null,
   "metadata": {},
   "outputs": [],
   "source": [
    "?plt.figure"
   ]
  },
  {
   "cell_type": "code",
   "execution_count": null,
   "metadata": {},
   "outputs": [],
   "source": [
    "?plt.subplot"
   ]
  },
  {
   "cell_type": "code",
   "execution_count": null,
   "metadata": {},
   "outputs": [],
   "source": [
    "plt.figure(1, figsize=(9, 6))\n",
    "\n",
    "plt.subplot(231)\n",
    "plt.bar(names, values)\n",
    "plt.subplot(235)\n",
    "plt.scatter(names, values)\n",
    "plt.subplot(236)\n",
    "plt.plot(names, values, linewidth=7.0)\n",
    "plt.suptitle('Categorical Plotting')\n",
    "plt.show()"
   ]
  },
  {
   "cell_type": "code",
   "execution_count": null,
   "metadata": {},
   "outputs": [],
   "source": [
    "line, = plt.plot([1, 2, 3, 4], [1, 4, 9, 16], '-')\n",
    "line.set_antialiased(False) # turn off antialising"
   ]
  },
  {
   "cell_type": "code",
   "execution_count": null,
   "metadata": {},
   "outputs": [],
   "source": [
    "x1=x2=np.arange(0., 2., 0.2)\n",
    "y1=x1\n",
    "y2=x2**1.5\n",
    "\n",
    "line1 = plt.plot(x1, y1)\n",
    "line2 = plt.plot(x2, y2)\n",
    "\n",
    "# use keyword args\n",
    "ignore= plt.setp(line1, color='r', linewidth=4.0, linestyle='--', alpha=0.5, dash_capstyle='projecting')\n",
    "# ignore= plt.setp(line1, markevery=4, marker='1', markersize=10)\n",
    "\n",
    "# or MATLAB style string value pairs\n",
    "ignore= plt.setp(line2, 'color', 'b', 'linewidth', 2.0, 'linestyle', '--')"
   ]
  },
  {
   "cell_type": "code",
   "execution_count": null,
   "metadata": {},
   "outputs": [],
   "source": [
    "plt.setp(line1)"
   ]
  },
  {
   "cell_type": "code",
   "execution_count": null,
   "metadata": {},
   "outputs": [],
   "source": [
    "def f(t):\n",
    "    return np.exp(-t) * np.cos(2*np.pi*t)\n",
    "\n",
    "t1 = np.arange(0.0, 5.0, 0.1)\n",
    "t2 = np.arange(0.0, 5.0, 0.02)\n",
    "\n",
    "plt.figure(1)\n",
    "\n",
    "plt.subplot(211)\n",
    "plt.plot(t1, f(t1), 'bo', t2, f(t2), 'g--')\n",
    "\n",
    "plt.subplot(212)\n",
    "plt.plot(t2, np.cos(2*np.pi*t2), 'r--')\n",
    "plt.show()"
   ]
  },
  {
   "cell_type": "code",
   "execution_count": null,
   "metadata": {},
   "outputs": [],
   "source": [
    "import matplotlib.pyplot as plt\n",
    "\n",
    "f1=plt.figure(1)                # the first figure\n",
    "print (f1)\n",
    "plt.subplot(211)             # the first subplot in the first figure\n",
    "plt.plot([1, 2, 3])\n",
    "\n",
    "plt.subplot(212)             # the second subplot in the first figure\n",
    "plt.plot([4, 5, 6])\n",
    "\n",
    "#plt.close(fig=1)\n",
    "\n",
    "plt.figure(2)                # a second figure\n",
    "plt.plot([4, 5, 6])          # creates a subplot(111) by default\n",
    "\n",
    "\n",
    "plt.figure(1)                # figure 1 current; subplot(212) still current\n",
    "plt.subplot(211)             # make subplot(211) in figure1 current\n",
    "plt.title('Easy as 1, 2, 3') # subplot 211 title"
   ]
  },
  {
   "cell_type": "code",
   "execution_count": null,
   "metadata": {},
   "outputs": [],
   "source": [
    "mu, sigma = 100, 15\n",
    "x = mu + sigma * np.random.randn(50000)\n",
    "\n",
    "# the histogram of the data\n",
    "n, bins, patches = plt.hist(x, 100, density=True, facecolor='g', alpha=0.75)\n",
    "print (sum(n))\n",
    "\n",
    "\n",
    "plt.ylabel('Probability')\n",
    "plt.title('Histogram of IQ')\n",
    "plt.text(60, .025, r'$\\mu=100,\\ \\sigma=15$')\n",
    "plt.axis([40, 160, 0, 0.03])\n",
    "plt.grid(True)\n",
    "\n",
    "t = plt.xlabel('Smarts')\n",
    "\n",
    "plt.setp(t, 'color', 'r', fontsize=16)\n",
    "\n",
    "plt.show()"
   ]
  },
  {
   "cell_type": "code",
   "execution_count": null,
   "metadata": {},
   "outputs": [],
   "source": [
    "?plt.hist"
   ]
  },
  {
   "cell_type": "code",
   "execution_count": null,
   "metadata": {},
   "outputs": [],
   "source": [
    "ax = plt.subplot(111)\n",
    "\n",
    "t = np.arange(0.0, 5.0, 0.01)\n",
    "s = np.cos(2*np.pi*t)\n",
    "line, = plt.plot(t, s, lw=2)\n",
    "\n",
    "plt.annotate('local max', xy=(2, 1), xytext=(3, 1.5),\n",
    "             arrowprops=dict(facecolor='black', shrink=0.05),\n",
    "             )\n",
    "\n",
    "plt.annotate('local max', xy=(1, 1), xytext=(1.5, 1.7),\n",
    "             arrowprops=dict(arrowstyle=\"<->\"),\n",
    "             )\n",
    "\n",
    "# \n",
    "\n",
    "plt.ylim(-1.5, 2)\n",
    "plt.show()"
   ]
  },
  {
   "cell_type": "code",
   "execution_count": null,
   "metadata": {},
   "outputs": [],
   "source": [
    "from matplotlib.ticker import NullFormatter  # useful for `logit` scale\n",
    "\n",
    "# Fixing random state for reproducibility\n",
    "np.random.seed(19680801)\n",
    "\n",
    "# make up some data in the interval ]0, 1[\n",
    "y = np.random.normal(loc=0.5, scale=0.4, size=1000)\n",
    "y = y[(y > 0) & (y < 1)]\n",
    "y.sort()\n",
    "x = np.arange(len(y))\n",
    "\n",
    "# plot with various axes scales\n",
    "plt.figure(1, figsize=(9, 6))\n",
    "\n",
    "# linear\n",
    "plt.subplot(221)\n",
    "plt.plot(x, y)\n",
    "plt.yscale('linear')\n",
    "plt.title('linear')\n",
    "plt.grid(True)\n",
    "\n",
    "\n",
    "# log\n",
    "plt.subplot(222)\n",
    "plt.plot(x, y)\n",
    "plt.yscale('log')\n",
    "plt.title('log')\n",
    "plt.grid(True)\n",
    "\n",
    "\n",
    "# symmetric log\n",
    "plt.subplot(223)\n",
    "plt.plot(x, y - y.mean())\n",
    "plt.yscale('symlog', linthreshy=0.01)\n",
    "plt.title('symlog')\n",
    "plt.grid(True)\n",
    "\n",
    "# logit\n",
    "plt.subplot(224)\n",
    "plt.plot(x, y)\n",
    "plt.yscale('logit')\n",
    "plt.title('logit')\n",
    "plt.grid(True)\n",
    "\n",
    "\n",
    "# Format the minor tick labels of the y-axis into empty strings with\n",
    "# `NullFormatter`, to avoid cumbering the axis with too many labels.\n",
    "\n",
    "\n",
    "\n",
    "plt.gca().yaxis.set_minor_formatter(NullFormatter())\n",
    "\n",
    "\n",
    "\n",
    "# Adjust the subplot layout, because the logit one may take more space\n",
    "# than usual, due to y-tick labels like \"1 - 10^{-3}\"\n",
    "\n",
    "# plt.subplots_adjust(top=0.92, bottom=0.08, left=0.10, right=0.95, hspace=0.25, wspace=0.35)\n",
    "plt.subplots_adjust(hspace=0.3, wspace=0.35)\n",
    "\n",
    "plt.show()\n"
   ]
  },
  {
   "cell_type": "markdown",
   "metadata": {},
   "source": [
    "## usage guide\n",
    "https://matplotlib.org/tutorials/introductory/usage.html"
   ]
  },
  {
   "cell_type": "code",
   "execution_count": null,
   "metadata": {},
   "outputs": [],
   "source": [
    "fig = plt.figure()  # an empty figure with no axes\n",
    "fig.suptitle('No axes on this figure')  # Add a title so we know which it is\n",
    "\n",
    "fig, ax_lst = plt.subplots(2, 2)  # a figure with a 2x2 grid of Axes\n"
   ]
  },
  {
   "cell_type": "code",
   "execution_count": null,
   "metadata": {},
   "outputs": [],
   "source": [
    "plt.figure(1, figsize=(8, 8))\n",
    "\n",
    "import pandas\n",
    "a = pandas.DataFrame(np.random.rand(4,5), columns = list('abcde'))\n",
    "print (\"pandas.DataFrame\")\n",
    "print(a)\n",
    "\n",
    "# to convert a pandas.DataFrame\n",
    "\n",
    "a_asndarray = a.values\n",
    "\n",
    "print (\"pandas.DataFrame .values\")\n",
    "print(a_asndarray)\n",
    "\n",
    "plt.subplot(221)\n",
    "plt.plot(a)\n",
    "plt.title('DataFrame')\n",
    "\n",
    "plt.subplot(222)\n",
    "plt.plot(a_asndarray)\n",
    "plt.title('DataFrame values')\n",
    "\n",
    "\n",
    "b = np.matrix([[1,2],[3,4]])\n",
    "print (\"np.matrix\")\n",
    "print (b)\n",
    "\n",
    "# to covert a np.matrix\n",
    "\n",
    "b_asarray = np.asarray(b)\n",
    "print (\"b_asarray\")\n",
    "print (b_asarray)\n",
    "\n",
    "plt.subplot(223)\n",
    "plt.plot(b)\n",
    "plt.title('np.matrix')\n",
    "\n",
    "plt.subplot(224)\n",
    "plt.plot(b_asarray)\n",
    "plt.title('np.matrix asarray')\n",
    "\n",
    "plt.show()"
   ]
  },
  {
   "cell_type": "code",
   "execution_count": null,
   "metadata": {},
   "outputs": [],
   "source": [
    "\n",
    "x = np.linspace(0, 2, 10)\n",
    "print (x)\n",
    "\n",
    "plt.figure(1, figsize=(12, 8))\n",
    "\n",
    "plt.plot(x, x, label='linear')\n",
    "plt.plot(x, x**2, label='quadratic')\n",
    "plt.plot(x, x**3, label='cubic')\n",
    "\n",
    "plt.xlabel('x label')\n",
    "plt.ylabel('y label')\n",
    "\n",
    "plt.title(\"Simple Plot\")\n",
    "\n",
    "plt.legend()\n",
    "\n",
    "plt.show()"
   ]
  },
  {
   "cell_type": "code",
   "execution_count": null,
   "metadata": {},
   "outputs": [],
   "source": [
    "import matplotlib.pyplot as plt\n",
    "import numpy as np\n",
    "\n",
    "x = np.arange(0, 10, 0.2)\n",
    "y = np.sin(x)\n",
    "fig, ax = plt.subplots()\n",
    "ax.plot(x, y)\n",
    "plt.show()"
   ]
  },
  {
   "cell_type": "code",
   "execution_count": null,
   "metadata": {},
   "outputs": [],
   "source": [
    "plt.plot(x, y)\n",
    "plt.show()"
   ]
  },
  {
   "cell_type": "code",
   "execution_count": null,
   "metadata": {},
   "outputs": [],
   "source": [
    "?plt.subplots"
   ]
  },
  {
   "cell_type": "code",
   "execution_count": null,
   "metadata": {},
   "outputs": [],
   "source": [
    "fig, (ax1, ax2) = plt.subplots(1, 2, sharey=True)\n",
    "ax1.plot(x, y)\n",
    "fig.suptitle('Sharing Y axis')\n",
    "ax2.scatter(x, y/2)\n"
   ]
  },
  {
   "cell_type": "code",
   "execution_count": null,
   "metadata": {},
   "outputs": [],
   "source": [
    "#Creates four polar axes, and accesses them through the returned array\n",
    "\n",
    "fig, axes = plt.subplots(2, 2, subplot_kw=dict(polar=True), figsize=(12, 8))\n",
    "axes[0, 0].plot(x, y)\n",
    "axes[0, 1].plot(x, y**2)\n",
    "axes[1, 1].scatter(x, y)"
   ]
  },
  {
   "cell_type": "code",
   "execution_count": null,
   "metadata": {},
   "outputs": [],
   "source": [
    "def my_plotter(ax, data1, data2, param_dict):\n",
    "    \"\"\"\n",
    "    A helper function to make a graph\n",
    "\n",
    "    Parameters\n",
    "    ----------\n",
    "    ax : Axes\n",
    "        The axes to draw to\n",
    "\n",
    "    data1 : array\n",
    "       The x data\n",
    "\n",
    "    data2 : array\n",
    "       The y data\n",
    "\n",
    "    param_dict : dict\n",
    "       Dictionary of kwargs to pass to ax.plot\n",
    "\n",
    "    Returns\n",
    "    -------\n",
    "    out : list\n",
    "        list of artists added\n",
    "    \"\"\"\n",
    "    out = ax.plot(data1, data2, **param_dict)\n",
    "    return out\n",
    "\n",
    "# which you would then use as:\n",
    "\n",
    "data1, data2, data3, data4 = np.random.randn(4, 100)\n",
    "fig, ax = plt.subplots(1, 1)\n",
    "my_plotter(ax, data1, data2, {'marker': 'x'})"
   ]
  },
  {
   "cell_type": "code",
   "execution_count": null,
   "metadata": {},
   "outputs": [],
   "source": [
    "fig, ax = plt.subplots(2, 2)\n",
    "out=my_plotter(ax[1,1], data1, data2, {'marker': 'o'})\n"
   ]
  },
  {
   "cell_type": "code",
   "execution_count": null,
   "metadata": {},
   "outputs": [],
   "source": [
    "fig, (ax1, ax2) = plt.subplots(1, 2)\n",
    "my_plotter(ax1, data1, data2, {'marker': 'x'})\n",
    "my_plotter(ax2, data3, data4, {'marker': 'o'})"
   ]
  },
  {
   "cell_type": "code",
   "execution_count": null,
   "metadata": {},
   "outputs": [],
   "source": [
    "import matplotlib\n",
    "backend=matplotlib.get_backend()\n",
    "print(backend)\n",
    "\n",
    "?matplotlib.use\n",
    "\n",
    "# If you use the use() function, this must be done before importing matplotlib.pyplot. \n",
    "# Calling use() after pyplot has been imported will have no effect. \n",
    "# Using use() will require changes in your code if users want to use a different backend. \n",
    "# Therefore, you should avoid explicitly calling use() unless absolutely necessary."
   ]
  },
  {
   "cell_type": "code",
   "execution_count": null,
   "metadata": {},
   "outputs": [],
   "source": [
    "# INTERACTIVE !!!\n",
    "# try this from (virtualenv) python prompt or ipython prompt\n",
    "\n",
    "import matplotlib.pyplot as plt\n",
    "plt.ion()\n",
    "plt.plot([1.6, 2.7])\n",
    "\n",
    "# then\n",
    "\n",
    "plt.title(\"interactive test\")\n",
    "plt.xlabel(\"index\")\n",
    "ax = plt.gca()\n",
    "ax.plot([3.1, 2.2])\n",
    "\n",
    "# or -close each one to get the next one:\n",
    "\n",
    "import numpy as np\n",
    "import matplotlib.pyplot as plt\n",
    "\n",
    "plt.figure(2)\n",
    "plt.ioff()\n",
    "for i in range(3):\n",
    "    plt.plot(np.random.rand(10))\n",
    "    plt.show()"
   ]
  },
  {
   "cell_type": "code",
   "execution_count": null,
   "metadata": {},
   "outputs": [],
   "source": [
    "import numpy as np\n",
    "import matplotlib.pyplot as plt\n",
    "import matplotlib as mpl\n",
    "\n",
    "# import matplotlib.style as mplstyle\n",
    "# mplstyle.use('fast')\n",
    "\n",
    "# mplstyle.use(['dark_background'])\n",
    "\n",
    "%matplotlib inline\n",
    "\n",
    "# Setup, and create the data to plot\n",
    "y = np.random.rand(100000)\n",
    "y[50000:] *= 2\n",
    "y[np.logspace(1, np.log10(50000), 400).astype(int)] = -1\n",
    "mpl.rcParams['path.simplify'] = True\n",
    "\n",
    "# print ( mpl.rcParams['path.simplify_threshold'] )\n",
    "\n",
    "import time\n",
    "\n",
    "before=time.time()\n",
    "mpl.rcParams['path.simplify_threshold'] = 0.1111111111111111\n",
    "plt.figure(figsize=(12, 8))\n",
    "plt.plot(y)\n",
    "plt.show()\n",
    "print (\"default mpl.rcParams['path.simplify_threshold'] = 1/9\")\n",
    "print(time.time()-before, \"seconds\")\n",
    "\n",
    "before=time.time()\n",
    "mpl.rcParams['path.simplify_threshold'] = 0.0\n",
    "plt.figure(figsize=(12, 8))\n",
    "plt.plot(y)\n",
    "plt.show()\n",
    "print (\"mpl.rcParams['path.simplify_threshold'] = 0.0\")\n",
    "print(time.time()-before, \"seconds\")\n",
    "\n",
    "before=time.time()\n",
    "mpl.rcParams['path.simplify_threshold'] = 1.0\n",
    "plt.figure(figsize=(12, 8))\n",
    "plt.plot(y)\n",
    "plt.show()\n",
    "print (\"mpl.rcParams['path.simplify_threshold'] = 1.0\")\n",
    "print(time.time()-before, \"seconds\")\n"
   ]
  },
  {
   "cell_type": "code",
   "execution_count": null,
   "metadata": {},
   "outputs": [],
   "source": [
    "x = np.arange(0, 10, 0.2)\n",
    "y = np.sin(x)\n",
    "plt.plot(x, y,'o',ls='-', ms=20, markevery=10)"
   ]
  },
  {
   "cell_type": "markdown",
   "metadata": {},
   "source": [
    "## chunksize\n",
    "\n",
    "for Agg backend (e.g. TkAgg when running in python script)\n",
    "\n",
    "see \n",
    "https://matplotlib.org/tutorials/introductory/usage.html#splitting-lines-into-smaller-chunks\n",
    "\n",
    "\n"
   ]
  },
  {
   "cell_type": "markdown",
   "metadata": {},
   "source": [
    "## mpl_toolkits.axes_grid1"
   ]
  },
  {
   "cell_type": "code",
   "execution_count": null,
   "metadata": {},
   "outputs": [],
   "source": [
    "lim = 20\n",
    "binwidth = lim / 10\n",
    "\n",
    "x = list(np.arange(-lim, 0, 0.3)) + list(np.arange(0, lim, 0.1))\n",
    "y = np.sin(x)*x\n",
    "\n",
    "from mpl_toolkits.axes_grid1 import make_axes_locatable\n",
    "\n",
    "plt.figure(figsize=(12, 8))\n",
    "\n",
    "axScatter = plt.subplot(111)\n",
    "axScatter.scatter(x, y)\n",
    "axScatter.set_aspect(1.)\n",
    "\n",
    "# create new axes on the right and on the top of the current axes.\n",
    "divider = make_axes_locatable(axScatter)\n",
    "axHistx = divider.append_axes(\"top\",   size=1.2, pad=0.3, sharex=axScatter)\n",
    "axHisty = divider.append_axes(\"right\", size=1.2, pad=0.5, sharey=axScatter)\n",
    "\n",
    "# the scatter plot:\n",
    "# histograms\n",
    "\n",
    "bins = np.arange(-lim, lim + binwidth, binwidth)\n",
    "axHistx.hist(x, bins=bins)\n",
    "axHisty.hist(y, bins=bins, orientation='horizontal')"
   ]
  },
  {
   "cell_type": "markdown",
   "metadata": {},
   "source": [
    "## custom ticker1\n",
    "https://matplotlib.org/gallery/ticks_and_spines/custom_ticker1.html#sphx-glr-gallery-ticks-and-spines-custom-ticker1-py\n"
   ]
  },
  {
   "cell_type": "code",
   "execution_count": null,
   "metadata": {},
   "outputs": [],
   "source": [
    "from matplotlib.ticker import FuncFormatter\n",
    "import matplotlib.pyplot as plt\n",
    "import numpy as np\n",
    "\n",
    "x = np.arange(4)\n",
    "money = [1.5e5, 2.5e6, 5.5e6, 2.0e7]\n",
    "\n",
    "def millions(y, pos):\n",
    "    'The two args are the value and tick position'\n",
    "    # print (pos)\n",
    "    return '.'*pos + '$%1.1fM' % (y /  1e6)\n",
    "\n",
    "formatter = FuncFormatter(millions)\n",
    "\n",
    "fig, ax = plt.subplots( figsize=(6, 4))\n",
    "ax.yaxis.set_major_formatter(formatter)\n",
    "plt.bar(x, money)\n",
    "\n",
    "plt.xticks(x, ('Bill', 'Fred', 'Mary')) # , 'Sue'))\n",
    "\n",
    "plt.show()"
   ]
  },
  {
   "cell_type": "code",
   "execution_count": null,
   "metadata": {},
   "outputs": [],
   "source": []
  }
 ],
 "metadata": {
  "kernelspec": {
   "display_name": "Python.3.pythontesting",
   "language": "python",
   "name": "python.3.pythontesting"
  },
  "language_info": {
   "codemirror_mode": {
    "name": "ipython",
    "version": 3
   },
   "file_extension": ".py",
   "mimetype": "text/x-python",
   "name": "python",
   "nbconvert_exporter": "python",
   "pygments_lexer": "ipython3",
   "version": "3.5.3"
  }
 },
 "nbformat": 4,
 "nbformat_minor": 2
}
